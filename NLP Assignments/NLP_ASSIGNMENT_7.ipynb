{
 "cells": [
  {
   "cell_type": "code",
   "execution_count": 1,
   "metadata": {},
   "outputs": [
    {
     "name": "stderr",
     "output_type": "stream",
     "text": [
      "[nltk_data] Downloading package punkt to\n",
      "[nltk_data]     C:\\Users\\chait\\AppData\\Roaming\\nltk_data...\n",
      "[nltk_data]   Package punkt is already up-to-date!\n"
     ]
    },
    {
     "data": {
      "text/plain": [
       "True"
      ]
     },
     "execution_count": 1,
     "metadata": {},
     "output_type": "execute_result"
    }
   ],
   "source": [
    "import nltk\n",
    "from collections import defaultdict, Counter\n",
    "from nltk.util import ngrams\n",
    "from nltk.tokenize import word_tokenize\n",
    "\n",
    "nltk.download('punkt')\n"
   ]
  },
  {
   "cell_type": "code",
   "execution_count": 17,
   "metadata": {},
   "outputs": [
    {
     "name": "stdout",
     "output_type": "stream",
     "text": [
      "fox\n",
      "very\n"
     ]
    }
   ],
   "source": [
    "class NGramAutoComplete:\n",
    "    def __init__(self, corpus, n=3):\n",
    "        self.n = n  \n",
    "        self.ngram_model = self.build_ngram_model(corpus, n)\n",
    "\n",
    "    def build_ngram_model(self, text, n):\n",
    "        tokens = word_tokenize(text.lower())  \n",
    "        ngram_counts = defaultdict(Counter)\n",
    "\n",
    "        \n",
    "        for ngram in ngrams(tokens, n, pad_left=True, pad_right=True, left_pad_symbol=\"<s>\", right_pad_symbol=\"</s>\"):\n",
    "            prefix, next_word = tuple(ngram[:-1]), ngram[-1]\n",
    "            ngram_counts[prefix][next_word] += 1\n",
    "\n",
    "        return ngram_counts\n",
    "\n",
    "    def predict_next_word(self, text):\n",
    "        tokens = word_tokenize(text.lower())\n",
    "        prefix = tuple(tokens[-(self.n - 1):])  \n",
    "\n",
    "        if prefix in self.ngram_model:\n",
    "            next_word_candidates = self.ngram_model[prefix]\n",
    "            return next_word_candidates.most_common(1)[0][0]  \n",
    "        return None  \n",
    "\n",
    "corpus = \"\"\"The quick brown fox jumps over the lazy dog. The quick brown fox is very fast.\"\"\"\n",
    "auto_complete = NGramAutoComplete(corpus, n=3)\n",
    "\n",
    "print(auto_complete.predict_next_word(\"the quick Brown\"))  # Output: \"fox\"\n",
    "print(auto_complete.predict_next_word(\"fox is\"))         # Output: \"dog\""
   ]
  }
 ],
 "metadata": {
  "kernelspec": {
   "display_name": "Python 3",
   "language": "python",
   "name": "python3"
  },
  "language_info": {
   "codemirror_mode": {
    "name": "ipython",
    "version": 3
   },
   "file_extension": ".py",
   "mimetype": "text/x-python",
   "name": "python",
   "nbconvert_exporter": "python",
   "pygments_lexer": "ipython3",
   "version": "3.11.2"
  }
 },
 "nbformat": 4,
 "nbformat_minor": 2
}
